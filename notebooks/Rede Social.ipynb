{
 "cells": [
  {
   "cell_type": "markdown",
   "metadata": {},
   "source": [
    "# Recomendando amigos"
   ]
  },
  {
   "cell_type": "markdown",
   "metadata": {},
   "source": [
    "### Construindo database"
   ]
  },
  {
   "cell_type": "code",
   "execution_count": 238,
   "metadata": {},
   "outputs": [],
   "source": [
    "\"\"\"\n",
    "Informações de usuários\n",
    "\n",
    "Representação: id, nome\n",
    "\n",
    "\n",
    "\"\"\"\n",
    "\n",
    "users = [\n",
    "    {\"id\": 0, \"name\": \"João\"},\n",
    "    {\"id\": 1, \"name\": \"Pedro\"},\n",
    "    {\"id\": 2, \"name\": \"Arthur\"},\n",
    "    {\"id\": 3, \"name\": \"Clara\"},\n",
    "    {\"id\": 4, \"name\": \"Roberto\"},\n",
    "    {\"id\": 5, \"name\": \"Júlia\"},\n",
    "    {\"id\": 6, \"name\": \"Amanda\"},\n",
    "    {\"id\": 7, \"name\": \"André\"},\n",
    "    {\"id\": 8, \"name\": \"Eduardo\"},\n",
    "    {\"id\": 9, \"name\": \"Rafael\"},\n",
    "]\n",
    "\n",
    "\"\"\"\n",
    "Rede de relacionamentos\n",
    "\n",
    "Aqui cada par é um relacionamento entre dois usuários representados através de ids\n",
    "\n",
    "(0, 1) -> João é amigo de Pedro [Relacionamento bi-direcional]\n",
    "\n",
    "\"\"\"\n",
    "\n",
    "friendship = [(0, 1), (0, 2), (1, 2), (1, 3), (2, 3), (3, 4),\n",
    "              (4, 5), (5, 6), (5, 7), (6, 8), (7, 8), (8, 9)]\n",
    "\n",
    "\n",
    "\"\"\"\n",
    "Rede de interesse\n",
    "\n",
    "Representação: id, interesse\n",
    "\n",
    "\"\"\"\n",
    "\n",
    "interests = [\n",
    "    (0, \"Hadoop\"), (0, \"Big Data\"), (0, \"HBase\"), (0, \"Java\"),\n",
    "    (0, \"Spark\"), (0, \"Storm\"), (0, \"Cassandra\"),\n",
    "    (1, \"NoSQL\"), (1, \"MongoDB\"), (1, \"Cassandra\"), (1, \"HBase\"),\n",
    "    (1, \"Postgres\"), (2, \"Python\"), (2, \"scikit-learn\"), (2, \"scipy\"),\n",
    "    (2, \"numpy\"), (2, \"statsmodels\"), (2, \"pandas\"), (3, \"R\"), (3, \"Python\"),\n",
    "    (3, \"statistics\"), (3, \"regression\"), (3, \"probability\"),\n",
    "    (4, \"machine learning\"), (4, \"regression\"), (4, \"decision trees\"),\n",
    "    (4, \"libsvm\"), (5, \"Python\"), (5, \"R\"), (5, \"Java\"), (5, \"C++\"),\n",
    "    (5, \"Haskell\"), (5, \"programming languages\"), (6, \"statistics\"),\n",
    "    (6, \"probability\"), (6, \"mathematics\"), (6, \"theory\"),\n",
    "    (7, \"machine learning\"), (7, \"scikit-learn\"), (7, \"Mahout\"),\n",
    "    (7, \"neural networks\"), (8, \"neural networks\"), (8, \"deep learning\"),\n",
    "    (8, \"Big Data\"), (8, \"artificial intelligence\"), (9, \"Hadoop\"),\n",
    "    (9, \"Java\"), (9, \"MapReduce\"), (9, \"Big Data\")\n",
    "]\n",
    "\n",
    "\"\"\"\n",
    "Salário anual por tempo trabalhado\n",
    "\n",
    "Representação: salário, tempo trabalhado (anos)\n",
    "\n",
    "\"\"\"\n",
    "\n",
    "salaries_and_tenures = [\n",
    "    (83000, 8.7), (88000, 8.1),\n",
    "    (48000, 0.7), (76000, 6),\n",
    "    (69000, 6.5), (76000, 7.5),\n",
    "    (60000, 2.5), (83000, 10),\n",
    "    (48000, 1.9), (63000, 4.2)\n",
    "                        ]\n",
    "\n",
    "\"\"\"\n",
    "Situação financeira (Contas em dias)\n",
    "\n",
    "Representação: tempo trabalhado, situação das contas\n",
    "\n",
    "\"\"\"\n",
    "\n",
    "paid_bills = {\n",
    "    0.7: \"paid\",\n",
    "    1.9: \"unpaid\",\n",
    "    2.5: \"paid\",\n",
    "    4.2: \"unpaid\",\n",
    "    6: \"unpaid\",\n",
    "    6.5: \"unpaid\",\n",
    "    7.5: \"unpaid\",\n",
    "    8.1: \"unpaid\",\n",
    "    8.7: \"paid\",\n",
    "    10: \"paid\"\n",
    "              }"
   ]
  },
  {
   "cell_type": "markdown",
   "metadata": {},
   "source": [
    "### Adicionar rede de amigos na estrutura de usuários (user)"
   ]
  },
  {
   "cell_type": "code",
   "execution_count": 239,
   "metadata": {},
   "outputs": [],
   "source": [
    "# Criar chave amigos na estrutura de usuários\n",
    "for user in users:\n",
    "    user['friends'] = []"
   ]
  },
  {
   "cell_type": "code",
   "execution_count": 240,
   "metadata": {},
   "outputs": [],
   "source": [
    "# Preencher amigos de cada usuário (Relação bi-direcional)\n",
    "for i, j in friendship:\n",
    "    \n",
    "    users[i]['friends'].append(users[j]['id'])\n",
    "    users[j]['friends'].append(users[i]['id'])"
   ]
  },
  {
   "cell_type": "markdown",
   "metadata": {},
   "source": [
    "### Descobrir número médio de amizades da base"
   ]
  },
  {
   "cell_type": "code",
   "execution_count": 241,
   "metadata": {},
   "outputs": [
    {
     "name": "stdout",
     "output_type": "stream",
     "text": [
      "Total de conexões:: 24\n",
      "Média de conexões:: 2.40\n",
      "Desvio Padrão das conexões:: 0.663325\n"
     ]
    }
   ],
   "source": [
    "import numpy as np\n",
    "\n",
    "# Função para contar quantos amigos\n",
    "def number_of_friends(user):\n",
    "    # Retornar o comprimento da lista de amigos\n",
    "    return len(user[\"friends\"])\n",
    "\n",
    "count_connections = [number_of_friends(user) for user in users]\n",
    "total_connections = sum(count_connections)\n",
    "print(\"Total de conexões:: %d\" % total_connections)\n",
    "\n",
    "num_users = len(users)\n",
    "avg_connections = total_connections / num_users\n",
    "\n",
    "\"\"\"\n",
    "Média e Desvio Padrão\n",
    "\n",
    "Em estatística, média é definida como o valor que mostra para onde se concentram os dados de \n",
    "uma distribuição como o ponto de equilíbrio das frequências em um histograma. Média também é \n",
    "interpretada como um valor significativo de uma lista de números.\n",
    "\n",
    "Em probabilidade, o desvio padrão ou desvio padrão populacional\n",
    "é uma medida de dispersão em torno da média populacional de uma variável aleatória.\n",
    "\n",
    "Quanto menor o desvio padrão mais homogênea é a amostra\n",
    "\n",
    "\"\"\"\n",
    "\n",
    "print(\"Média de conexões:: %.2f\" % avg_connections)\n",
    "print(\"Desvio Padrão das conexões:: %f\" % np.std(count_connections))"
   ]
  },
  {
   "cell_type": "markdown",
   "metadata": {},
   "source": [
    "### Quem tem mais amigos na base"
   ]
  },
  {
   "cell_type": "code",
   "execution_count": 242,
   "metadata": {},
   "outputs": [
    {
     "name": "stdout",
     "output_type": "stream",
     "text": [
      "{'id': 0, 'name': 'João', 'friends': [1, 2]}\n"
     ]
    }
   ],
   "source": [
    "print(users[0])"
   ]
  },
  {
   "cell_type": "code",
   "execution_count": 243,
   "metadata": {},
   "outputs": [
    {
     "name": "stdout",
     "output_type": "stream",
     "text": [
      "Mais amigos sorteados::  [(1, 3), (2, 3), (3, 3), (5, 3), (8, 3), (0, 2), (4, 2), (6, 2), (7, 2), (9, 1)]\n"
     ]
    }
   ],
   "source": [
    "# Utiliza função da cell anterior\n",
    "num_friends_by_id = [(user[\"id\"], number_of_friends(user)) for user in users]\n",
    "# Saida -> par (usuário, numero de amigos)\n",
    "print(\"Mais amigos sorteados:: \", sorted(num_friends_by_id, key=lambda num_friends: num_friends[1], reverse=True))\n"
   ]
  },
  {
   "cell_type": "markdown",
   "metadata": {},
   "source": [
    "### Amigos de amigos (Pessoas que você deve conhecer)"
   ]
  },
  {
   "cell_type": "code",
   "execution_count": 244,
   "metadata": {},
   "outputs": [
    {
     "name": "stdout",
     "output_type": "stream",
     "text": [
      "Amigos de Amigos:: \n",
      "Recomendação de amigo para João:: [0, 2, 3, 0, 1, 3] \n"
     ]
    }
   ],
   "source": [
    "def friends_of_friend_ids_bad(user):\n",
    "    # foaf = friend of a friend\n",
    "    return [foaf for friend in user['friends'] for foaf in users[friend]['friends']]\n",
    "\n",
    "\n",
    "print(\"Amigos de Amigos:: \")\n",
    "print(\"Recomendação de amigo para %s:: %s \" % (users[0]['name'], friends_of_friend_ids_bad(users[0])))"
   ]
  },
  {
   "cell_type": "markdown",
   "metadata": {},
   "source": [
    "# Problema?"
   ]
  },
  {
   "cell_type": "code",
   "execution_count": 245,
   "metadata": {},
   "outputs": [
    {
     "name": "stdout",
     "output_type": "stream",
     "text": [
      "Recomendação de amigo para João:: [3] \n"
     ]
    }
   ],
   "source": [
    "from collections import Counter\n",
    "import numpy as np\n",
    "\n",
    "def not_the_same(user, other_user):\n",
    "    return user['id'] != other_user['id']\n",
    "\n",
    "\n",
    "def not_friends(user, other_user):\n",
    "    return all(not_the_same(users[friend], other_user) for friend in user['friends'])\n",
    "\n",
    "\n",
    "def friends_of_friend_ids(user):\n",
    "    return [foaf for friend in user['friends'] for foaf in users[friend]['friends']\n",
    "                   if not_the_same(user, users[foaf]) and not_friends(user, users[foaf])]\n",
    "#     return Counter(foaf for friend in user['friends'] for foaf in users[friend]['friends']\n",
    "#                    if not_the_same(user, users[foaf]) and not_friends(user, users[foaf]))\n",
    "\n",
    "\n",
    "# Recommend 3 because they have 2 friends in common\n",
    "print(\"Recomendação de amigo para %s:: %s \" % (users[0]['name'], np.unique(friends_of_friend_ids(users[0]))))"
   ]
  },
  {
   "cell_type": "markdown",
   "metadata": {},
   "source": [
    "## Dois usuários com o mesmo interesse"
   ]
  },
  {
   "cell_type": "code",
   "execution_count": 246,
   "metadata": {},
   "outputs": [],
   "source": [
    "from collections import defaultdict\n",
    "\n",
    "def data_scientists_who_like(target_interest):\n",
    "    return [user_id for user_id, user_interest in interests if user_interest == target_interest]\n",
    "\n",
    "\n",
    "user_ids_by_interest = defaultdict(list)\n",
    "interest_by_user_id = defaultdict(list)\n",
    "unique_interest = set()\n",
    "\n",
    "for user_id, interest in interests:\n",
    "    user_ids_by_interest[interest].append(user_id)\n",
    "    interest_by_user_id[user_id].append(interest)\n",
    "    unique_interest.add(interest)\n",
    "\n",
    "# Ordena em ordem alfabética\n",
    "unique_interest = sorted(list(unique_interest))"
   ]
  },
  {
   "cell_type": "markdown",
   "metadata": {},
   "source": [
    "### Recomendar o que é popular"
   ]
  },
  {
   "cell_type": "code",
   "execution_count": 247,
   "metadata": {},
   "outputs": [
    {
     "name": "stdout",
     "output_type": "stream",
     "text": [
      "Recomendações para João:: [('Python', 3), ('scikit-learn', 2), ('NoSQL', 1), ('MongoDB', 1), ('Postgres', 1)] \n"
     ]
    }
   ],
   "source": [
    "from collections import Counter\n",
    "\n",
    "popular_interests = Counter(interest for user in users for interest in interest_by_user_id[user['id']]) \n",
    "\n",
    "def most_popular_new_interests(user_interests, max_results=5):\n",
    "    recommendations = [\n",
    "        (interest, frequency)\n",
    "        for interest, frequency in popular_interests.items()\n",
    "        if interest not in user_interests\n",
    "                      ]\n",
    "    return sorted(recommendations[:max_results], key=lambda x: -x[1])\n",
    "\n",
    "print(\"Recomendações para %s:: %s \" % (users[0]['name'], most_popular_new_interests(interest_by_user_id[0])))"
   ]
  },
  {
   "cell_type": "markdown",
   "metadata": {},
   "source": [
    "### Recomendação Personalizada baseado nos Usuários"
   ]
  },
  {
   "cell_type": "code",
   "execution_count": 248,
   "metadata": {},
   "outputs": [
    {
     "name": "stdout",
     "output_type": "stream",
     "text": [
      "['Hadoop', 'Big Data', 'HBase', 'Java', 'Spark', 'Storm', 'Cassandra']\n"
     ]
    },
    {
     "data": {
      "text/plain": [
       "[('MapReduce', 0.5669467095138409),\n",
       " ('NoSQL', 0.3380617018914066),\n",
       " ('MongoDB', 0.3380617018914066),\n",
       " ('Postgres', 0.3380617018914066),\n",
       " ('neural networks', 0.1889822365046136),\n",
       " ('deep learning', 0.1889822365046136),\n",
       " ('artificial intelligence', 0.1889822365046136),\n",
       " ('Python', 0.1543033499620919),\n",
       " ('R', 0.1543033499620919),\n",
       " ('C++', 0.1543033499620919),\n",
       " ('Haskell', 0.1543033499620919),\n",
       " ('programming languages', 0.1543033499620919)]"
      ]
     },
     "execution_count": 248,
     "metadata": {},
     "output_type": "execute_result"
    }
   ],
   "source": [
    "from collections import defaultdict\n",
    "import numpy as np\n",
    "\n",
    "\"\"\"\n",
    "Para comparar o quão dois usuários são parecidos, precisamos de uma métrica de (dis)similaridade\n",
    "\n",
    "    - Euclidiana\n",
    "    - Coseno \n",
    "    - Correlação\n",
    "    \n",
    "\"\"\"\n",
    "\n",
    "def cosine_similarity(v, w):\n",
    "    return np.dot(v, w) / np.sqrt(np.dot(v, v) * np.dot(w, w))\n",
    "\n",
    "\n",
    "\"\"\"\n",
    "Criar vetor para um determinado usuário (usuário x interesse)\n",
    "\n",
    "1 - Se o usuário tem\n",
    "0 - Contrário\n",
    "\n",
    "\"\"\"\n",
    "\n",
    "def make_user_interest_vector(user_id):\n",
    "    return [1 if interest in interest_by_user_id[user_id] else 0 for interest in unique_interest]\n",
    "\n",
    "\n",
    "# Criar matrix de interesses (usuários x interesses)\n",
    "users_matrix = [make_user_interest_vector(user) for user in interest_by_user_id]\n",
    "\n",
    "# Criar matrix de similaridade\n",
    "users_sim_matrix = [[cosine_similarity(interest_vector_v, interest_vector_w) \n",
    "                     for interest_vector_w in users_matrix] \n",
    "                    for interest_vector_v in users_matrix]\n",
    "\n",
    "def most_similar_users_to(user_id):\n",
    "    pairs = [(other_user_id, similarity)\n",
    "            for other_user_id, similarity in enumerate(users_sim_matrix[user_id])\n",
    "             if user_id != other_user_id and similarity > 0\n",
    "            ]\n",
    "    return sorted(pairs, key=lambda x: -x[1])\n",
    "\n",
    "## Usuários mais similares ao João\n",
    "# most_similar_users_to(0)\n",
    "\n",
    "\"\"\"\n",
    "Gerar recomendação baseado nos usuários mais similares\n",
    "\n",
    "\"\"\"\n",
    "\n",
    "def user_based_recommendations(user_id, include_current_interests=False):\n",
    "        predictions = defaultdict(float)\n",
    "        for other_user_id, similarity in most_similar_users_to(user_id):\n",
    "            for interest in interest_by_user_id[other_user_id]:\n",
    "                # Para cada interesse soma-se a similaridade dos usuários mais proxímos\n",
    "                predictions[interest] += similarity\n",
    "        \n",
    "        # converte as recomendações em uma lista ordenada\n",
    "        predictions = sorted(predictions.items(), key=lambda x: -x[1])\n",
    "        \n",
    "        # caso deseje incluir interesses existentes include_current_interests=True\n",
    "        if include_current_interests:\n",
    "            return predictions\n",
    "        \n",
    "        else:\n",
    "            return [(prediction, score) \n",
    "                   for prediction, score in predictions\n",
    "                   if prediction not in interest_by_user_id[user_id]]\n",
    "\n",
    "# Lista de interesses do João\n",
    "print(interest_by_user_id[0])\n",
    "# Lista de recomendações para o João\n",
    "user_based_recommendations(0)\n",
    "        \n",
    "    "
   ]
  },
  {
   "cell_type": "code",
   "execution_count": null,
   "metadata": {},
   "outputs": [],
   "source": []
  }
 ],
 "metadata": {
  "kernelspec": {
   "display_name": "Python 3",
   "language": "python",
   "name": "python3"
  },
  "language_info": {
   "codemirror_mode": {
    "name": "ipython",
    "version": 3
   },
   "file_extension": ".py",
   "mimetype": "text/x-python",
   "name": "python",
   "nbconvert_exporter": "python",
   "pygments_lexer": "ipython3",
   "version": "3.6.3"
  }
 },
 "nbformat": 4,
 "nbformat_minor": 2
}
