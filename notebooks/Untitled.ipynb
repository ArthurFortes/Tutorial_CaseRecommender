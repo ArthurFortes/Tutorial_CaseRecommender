{
 "cells": [
  {
   "cell_type": "markdown",
   "metadata": {},
   "source": [
    "# Recomendando amigos"
   ]
  },
  {
   "cell_type": "markdown",
   "metadata": {},
   "source": [
    "### Construindo database"
   ]
  },
  {
   "cell_type": "code",
   "execution_count": 123,
   "metadata": {},
   "outputs": [],
   "source": [
    "\"\"\"\n",
    "Informações de usuários\n",
    "\n",
    "Representação: id, nome\n",
    "\n",
    "\n",
    "\"\"\"\n",
    "\n",
    "users = [\n",
    "    {\"id\": 0, \"name\": \"João\"},\n",
    "    {\"id\": 1, \"name\": \"Pedro\"},\n",
    "    {\"id\": 2, \"name\": \"Arthur\"},\n",
    "    {\"id\": 3, \"name\": \"Clara\"},\n",
    "    {\"id\": 4, \"name\": \"Roberto\"},\n",
    "    {\"id\": 5, \"name\": \"Júlia\"},\n",
    "    {\"id\": 6, \"name\": \"Amanda\"},\n",
    "    {\"id\": 7, \"name\": \"André\"},\n",
    "    {\"id\": 8, \"name\": \"Eduardo\"},\n",
    "    {\"id\": 9, \"name\": \"Rafael\"},\n",
    "]\n",
    "\n",
    "\"\"\"\n",
    "Rede de relacionamentos\n",
    "\n",
    "Aqui cada par é um relacionamento entre dois usuários representados através de ids\n",
    "\n",
    "(0, 1) -> João é amigo de Pedro [Relacionamento bi-direcional]\n",
    "\n",
    "\"\"\"\n",
    "\n",
    "friendship = [(0, 1), (0, 2), (1, 2), (1, 3), (2, 3), (3, 4),\n",
    "              (4, 5), (5, 6), (5, 7), (6, 8), (7, 8), (8, 9)]\n",
    "\n",
    "\n",
    "\"\"\"\n",
    "Rede de interesse\n",
    "\n",
    "Representação: id, interesse\n",
    "\n",
    "\"\"\"\n",
    "\n",
    "interests = [\n",
    "    (0, \"Hadoop\"), (0, \"Big Data\"), (0, \"HBase\"), (0, \"Java\"),\n",
    "    (0, \"Spark\"), (0, \"Storm\"), (0, \"Cassandra\"),\n",
    "    (1, \"NoSQL\"), (1, \"MongoDB\"), (1, \"Cassandra\"), (1, \"HBase\"),\n",
    "    (1, \"Postgres\"), (2, \"Python\"), (2, \"scikit-learn\"), (2, \"scipy\"),\n",
    "    (2, \"numpy\"), (2, \"statsmodels\"), (2, \"pandas\"), (3, \"R\"), (3, \"Python\"),\n",
    "    (3, \"statistics\"), (3, \"regression\"), (3, \"probability\"),\n",
    "    (4, \"machine learning\"), (4, \"regression\"), (4, \"decision trees\"),\n",
    "    (4, \"libsvm\"), (5, \"Python\"), (5, \"R\"), (5, \"Java\"), (5, \"C++\"),\n",
    "    (5, \"Haskell\"), (5, \"programming languages\"), (6, \"statistics\"),\n",
    "    (6, \"probability\"), (6, \"mathematics\"), (6, \"theory\"),\n",
    "    (7, \"machine learning\"), (7, \"scikit-learn\"), (7, \"Mahout\"),\n",
    "    (7, \"neural networks\"), (8, \"neural networks\"), (8, \"deep learning\"),\n",
    "    (8, \"Big Data\"), (8, \"artificial intelligence\"), (9, \"Hadoop\"),\n",
    "    (9, \"Java\"), (9, \"MapReduce\"), (9, \"Big Data\")\n",
    "]\n",
    "\n",
    "\"\"\"\n",
    "Salário anual por tempo trabalhado\n",
    "\n",
    "Representação: salário, tempo trabalhado (anos)\n",
    "\n",
    "\"\"\"\n",
    "\n",
    "salaries_and_tenures = [\n",
    "    (83000, 8.7), (88000, 8.1),\n",
    "    (48000, 0.7), (76000, 6),\n",
    "    (69000, 6.5), (76000, 7.5),\n",
    "    (60000, 2.5), (83000, 10),\n",
    "    (48000, 1.9), (63000, 4.2)\n",
    "                        ]\n",
    "\n",
    "\"\"\"\n",
    "Situação financeira (Contas em dias)\n",
    "\n",
    "Representação: tempo trabalhado, situação das contas\n",
    "\n",
    "\"\"\"\n",
    "\n",
    "paid_bills = {\n",
    "    0.7: \"paid\",\n",
    "    1.9: \"unpaid\",\n",
    "    2.5: \"paid\",\n",
    "    4.2: \"unpaid\",\n",
    "    6: \"unpaid\",\n",
    "    6.5: \"unpaid\",\n",
    "    7.5: \"unpaid\",\n",
    "    8.1: \"unpaid\",\n",
    "    8.7: \"paid\",\n",
    "    10: \"paid\"\n",
    "              }"
   ]
  },
  {
   "cell_type": "markdown",
   "metadata": {},
   "source": [
    "### Adicionar rede de amigos na estrutura de usuários (user)"
   ]
  },
  {
   "cell_type": "code",
   "execution_count": 124,
   "metadata": {},
   "outputs": [],
   "source": [
    "# Criar chave amigos na estrutura de usuários\n",
    "for user in users:\n",
    "    user['friends'] = []"
   ]
  },
  {
   "cell_type": "code",
   "execution_count": 125,
   "metadata": {},
   "outputs": [],
   "source": [
    "# Preencher amigos de cada usuário (Relação bi-direcional)\n",
    "for i, j in friendship:\n",
    "    \n",
    "    users[i]['friends'].append(users[j]['id'])\n",
    "    users[j]['friends'].append(users[i]['id'])"
   ]
  },
  {
   "cell_type": "markdown",
   "metadata": {},
   "source": [
    "### Descobrir número médio de amizades da base"
   ]
  },
  {
   "cell_type": "code",
   "execution_count": 126,
   "metadata": {},
   "outputs": [
    {
     "name": "stdout",
     "output_type": "stream",
     "text": [
      "Total de conexões:: 24\n",
      "Média de conexões:: 2.40\n",
      "Desvio Padrão das conexões:: 0.663325\n"
     ]
    }
   ],
   "source": [
    "import numpy as np\n",
    "\n",
    "# Função para contar quantos amigos\n",
    "def number_of_friends(user):\n",
    "    # Retornar o comprimento da lista de amigos\n",
    "    return len(user[\"friends\"])\n",
    "\n",
    "count_connections = [number_of_friends(user) for user in users]\n",
    "total_connections = sum(count_connections)\n",
    "print(\"Total de conexões:: %d\" % total_connections)\n",
    "\n",
    "num_users = len(users)\n",
    "avg_connections = total_connections / num_users\n",
    "\n",
    "\"\"\"\n",
    "Média e Desvio Padrão\n",
    "\n",
    "Em estatística, média é definida como o valor que mostra para onde se concentram os dados de \n",
    "uma distribuição como o ponto de equilíbrio das frequências em um histograma. Média também é \n",
    "interpretada como um valor significativo de uma lista de números.\n",
    "\n",
    "Em probabilidade, o desvio padrão ou desvio padrão populacional\n",
    "é uma medida de dispersão em torno da média populacional de uma variável aleatória.\n",
    "\n",
    "Quanto menor o desvio padrão mais homogênea é a amostra\n",
    "\n",
    "\"\"\"\n",
    "\n",
    "print(\"Média de conexões:: %.2f\" % avg_connections)\n",
    "print(\"Desvio Padrão das conexões:: %f\" % np.std(count_connections))"
   ]
  },
  {
   "cell_type": "markdown",
   "metadata": {},
   "source": [
    "### Quem tem mais amigos na base"
   ]
  },
  {
   "cell_type": "code",
   "execution_count": 127,
   "metadata": {},
   "outputs": [
    {
     "name": "stdout",
     "output_type": "stream",
     "text": [
      "{'id': 0, 'name': 'João', 'friends': [1, 2]}\n"
     ]
    }
   ],
   "source": [
    "print(users[0])"
   ]
  },
  {
   "cell_type": "code",
   "execution_count": 128,
   "metadata": {},
   "outputs": [
    {
     "name": "stdout",
     "output_type": "stream",
     "text": [
      "Mais amigos sorteados::  [(1, 3), (2, 3), (3, 3), (5, 3), (8, 3), (0, 2), (4, 2), (6, 2), (7, 2), (9, 1)]\n"
     ]
    }
   ],
   "source": [
    "# Utiliza função da cell anterior\n",
    "num_friends_by_id = [(user[\"id\"], number_of_friends(user)) for user in users]\n",
    "# Saida -> par (usuário, numero de amigos)\n",
    "print(\"Mais amigos sorteados:: \", sorted(num_friends_by_id, key=lambda num_friends: num_friends[1], reverse=True))\n"
   ]
  },
  {
   "cell_type": "markdown",
   "metadata": {},
   "source": [
    "### Amigos de amigos (Pessoas que você deve conhecer)"
   ]
  },
  {
   "cell_type": "code",
   "execution_count": 129,
   "metadata": {},
   "outputs": [
    {
     "name": "stdout",
     "output_type": "stream",
     "text": [
      "Amigos de Amigos:: \n",
      "Resultado para João:: [0, 2, 3, 0, 1, 3] \n"
     ]
    }
   ],
   "source": [
    "def friends_of_friend_ids_bad(user):\n",
    "    # foaf = friend of a friend\n",
    "    return [foaf for friend in user['friends'] for foaf in users[friend]['friends']]\n",
    "\n",
    "\n",
    "print(\"Amigos de Amigos:: \")\n",
    "print(\"Resultado para %s:: %s \" % (users[0]['name'], friends_of_friend_ids_bad(users[0])))"
   ]
  },
  {
   "cell_type": "markdown",
   "metadata": {},
   "source": [
    "# Problema?"
   ]
  },
  {
   "cell_type": "code",
   "execution_count": 130,
   "metadata": {},
   "outputs": [
    {
     "name": "stdout",
     "output_type": "stream",
     "text": [
      "Resultado para João:: [3] \n"
     ]
    }
   ],
   "source": [
    "from collections import Counter\n",
    "import numpy as np\n",
    "\n",
    "def not_the_same(user, other_user):\n",
    "    return user['id'] != other_user['id']\n",
    "\n",
    "\n",
    "def not_friends(user, other_user):\n",
    "    return all(not_the_same(users[friend], other_user) for friend in user['friends'])\n",
    "\n",
    "\n",
    "def friends_of_friend_ids(user):\n",
    "    return [foaf for friend in user['friends'] for foaf in users[friend]['friends']\n",
    "                   if not_the_same(user, users[foaf]) and not_friends(user, users[foaf])]\n",
    "#     return Counter(foaf for friend in user['friends'] for foaf in users[friend]['friends']\n",
    "#                    if not_the_same(user, users[foaf]) and not_friends(user, users[foaf]))\n",
    "\n",
    "\n",
    "# Recommend 3 because they have 2 friends in common\n",
    "print(\"Resultado para %s:: %s \" % (users[0]['name'], np.unique(friends_of_friend_ids(users[0]))))"
   ]
  },
  {
   "cell_type": "markdown",
   "metadata": {},
   "source": [
    "### Dois usuários com o mesmo interesse"
   ]
  },
  {
   "cell_type": "code",
   "execution_count": 131,
   "metadata": {},
   "outputs": [],
   "source": [
    "from collections import defaultdict\n",
    "\n",
    "def data_scientists_who_like(target_interest):\n",
    "    return [user_id for user_id, user_interest in interests if user_interest == target_interest]\n",
    "\n",
    "\n",
    "user_ids_by_interest = defaultdict(list)\n",
    "interest_by_user_id = defaultdict(list)\n",
    "unique_interest = set()\n",
    "\n",
    "for user_id, interest in interests:\n",
    "    user_ids_by_interest[interest].append(user_id)\n",
    "    interest_by_user_id[user_id].append(interest)\n",
    "    unique_interest.add(interest)\n",
    "\n",
    "# Ordena em ordem alfabética\n",
    "unique_interest = sorted(list(unique_interest))"
   ]
  },
  {
   "cell_type": "markdown",
   "metadata": {},
   "source": [
    "### Recomendar o que é popular"
   ]
  },
  {
   "cell_type": "code",
   "execution_count": 135,
   "metadata": {},
   "outputs": [
    {
     "name": "stdout",
     "output_type": "stream",
     "text": [
      "Counter({'Big Data': 3, 'Java': 3, 'Python': 3, 'Hadoop': 2, 'HBase': 2, 'Cassandra': 2, 'scikit-learn': 2, 'R': 2, 'statistics': 2, 'regression': 2, 'probability': 2, 'machine learning': 2, 'neural networks': 2, 'Spark': 1, 'Storm': 1, 'NoSQL': 1, 'MongoDB': 1, 'Postgres': 1, 'scipy': 1, 'numpy': 1, 'statsmodels': 1, 'pandas': 1, 'decision trees': 1, 'libsvm': 1, 'C++': 1, 'Haskell': 1, 'programming languages': 1, 'mathematics': 1, 'theory': 1, 'Mahout': 1, 'deep learning': 1, 'artificial intelligence': 1, 'MapReduce': 1})\n"
     ]
    }
   ],
   "source": [
    "from collections import Counter\n",
    "\n",
    "popular_interests = Counter(interest for user in users for interest in interest_by_user_id[user['id']]) \n",
    "\n",
    "def most_popular_new_interests(user_interests, max_results=5):\n",
    "    recommendations = [\n",
    "        (interest, frequency)\n",
    "        for interest, frquency in popular_interests\n",
    "        for interest not in user_interests\n",
    "                      ]\n",
    "\n",
    "most_popular_new_interests()"
   ]
  },
  {
   "cell_type": "code",
   "execution_count": null,
   "metadata": {},
   "outputs": [],
   "source": []
  },
  {
   "cell_type": "code",
   "execution_count": null,
   "metadata": {},
   "outputs": [],
   "source": []
  }
 ],
 "metadata": {
  "kernelspec": {
   "display_name": "Python 3",
   "language": "python",
   "name": "python3"
  },
  "language_info": {
   "codemirror_mode": {
    "name": "ipython",
    "version": 3
   },
   "file_extension": ".py",
   "mimetype": "text/x-python",
   "name": "python",
   "nbconvert_exporter": "python",
   "pygments_lexer": "ipython3",
   "version": "3.6.3"
  }
 },
 "nbformat": 4,
 "nbformat_minor": 2
}
